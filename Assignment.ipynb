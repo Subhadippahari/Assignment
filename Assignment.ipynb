{
 "cells": [
  {
   "cell_type": "code",
   "execution_count": 2,
   "id": "16686d5b-07e9-4d54-80cf-1200a99db127",
   "metadata": {},
   "outputs": [],
   "source": [
    "# Q1. How do you comment code in Python? What are the different types of comments?\n",
    "# To write a coment we need to use #\n",
    "#There are three ways to write a comment - as a separate line,beside the corresponding statement of code, or as a multi-line comment block"
   ]
  },
  {
   "cell_type": "code",
   "execution_count": 3,
   "id": "c12b8b2a-667e-4664-b76f-7463d241088a",
   "metadata": {},
   "outputs": [],
   "source": [
    "# Q2. What are variables in Python? How do you declare and assign values to variables?\n",
    "# A variable is a string of characters and numbers associated with a piece of information.\n",
    "# with the help of = we can assign values to variables."
   ]
  },
  {
   "cell_type": "code",
   "execution_count": 4,
   "id": "8e6d42cd-9be7-45c5-904b-d15f8ae02692",
   "metadata": {},
   "outputs": [],
   "source": [
    "# Q3. How do you convert one data type to another in Python?\n",
    "# we can simpley  use the type name as a function and we ca do it."
   ]
  },
  {
   "cell_type": "code",
   "execution_count": 5,
   "id": "4e9efbb4-5df9-4d6a-8922-2521d0f6ca2b",
   "metadata": {},
   "outputs": [],
   "source": [
    "# Q4. How do you write and execute a Python script from the command line?\n",
    "#we need to open a comand line and type in the word python or python3 , followed by the path of our script."
   ]
  },
  {
   "cell_type": "code",
   "execution_count": 18,
   "id": "83ac173a-d76b-4bcf-aeb8-b207be47f5bd",
   "metadata": {},
   "outputs": [
    {
     "data": {
      "text/plain": [
       "[2, 3]"
      ]
     },
     "execution_count": 18,
     "metadata": {},
     "output_type": "execute_result"
    }
   ],
   "source": [
    "# Q5. Given a list my_list = [1, 2, 3, 4, 5], write the code to slice the list and obtain the sub-list [2, 3].\n",
    "my_list=[1,2,3,4,5]\n",
    "my_list[1:3]"
   ]
  },
  {
   "cell_type": "code",
   "execution_count": 19,
   "id": "8bad45cf-bf7d-4e2c-b0b9-9f76e294f34a",
   "metadata": {},
   "outputs": [],
   "source": [
    "#Q6. What is a complex number in mathematics, and how is it represented in Python?\n",
    "# complex numbers are such a number which have real and imaginary axis .\n",
    "# we can write complex number with help of j Example 6+5J in python where 6 is real part and 5j is imaginary part "
   ]
  },
  {
   "cell_type": "code",
   "execution_count": 26,
   "id": "0916b07f-6bb6-4d91-ad83-54f3cff0ba06",
   "metadata": {},
   "outputs": [],
   "source": [
    "# Q7.What is the correct way to declare a variable named age and assign the value 25 to it?\n",
    "L={\"age\":25}"
   ]
  },
  {
   "cell_type": "code",
   "execution_count": 51,
   "id": "af5fbb01-a3ab-4e97-9428-87673073d326",
   "metadata": {},
   "outputs": [],
   "source": [
    "age=int(25)"
   ]
  },
  {
   "cell_type": "code",
   "execution_count": 34,
   "id": "ad7c7995-7a47-442b-b842-6beb1dc60bad",
   "metadata": {},
   "outputs": [
    {
     "data": {
      "text/plain": [
       "25"
      ]
     },
     "execution_count": 34,
     "metadata": {},
     "output_type": "execute_result"
    }
   ],
   "source": [
    "age"
   ]
  },
  {
   "cell_type": "code",
   "execution_count": 35,
   "id": "c12bdba0-77e9-4770-9a5b-63d22d702995",
   "metadata": {},
   "outputs": [
    {
     "data": {
      "text/plain": [
       "float"
      ]
     },
     "execution_count": 35,
     "metadata": {},
     "output_type": "execute_result"
    }
   ],
   "source": [
    "# Q8. Declare a variable named price and assign the value 9.99 to it. What data type does this variable belong to?\n",
    "price=9.99\n",
    "type(price)"
   ]
  },
  {
   "cell_type": "code",
   "execution_count": 41,
   "id": "ff3a9347-228f-411b-8926-7b4b0cd2fd8f",
   "metadata": {},
   "outputs": [],
   "source": [
    "#Q9. Create a variable named name and assign your full name to it as a string. How would you print the value of this variable?\n",
    "Name=\"Subhadip Pahari\""
   ]
  },
  {
   "cell_type": "code",
   "execution_count": 42,
   "id": "5d2c4e1c-9036-4a31-8a1f-b5cafe0b6e60",
   "metadata": {},
   "outputs": [
    {
     "data": {
      "text/plain": [
       "'Subhadip Pahari'"
      ]
     },
     "execution_count": 42,
     "metadata": {},
     "output_type": "execute_result"
    }
   ],
   "source": [
    "Name"
   ]
  },
  {
   "cell_type": "code",
   "execution_count": 43,
   "id": "df54ca71-d501-40da-9642-04c6def5ba83",
   "metadata": {},
   "outputs": [
    {
     "name": "stdout",
     "output_type": "stream",
     "text": [
      "Subhadip Pahari\n"
     ]
    }
   ],
   "source": [
    "#or\n",
    "print(Name)"
   ]
  },
  {
   "cell_type": "code",
   "execution_count": 47,
   "id": "65fdd1d0-5186-4533-9dce-8e0a7e950662",
   "metadata": {},
   "outputs": [
    {
     "data": {
      "text/plain": [
       "'Hello'"
      ]
     },
     "execution_count": 47,
     "metadata": {},
     "output_type": "execute_result"
    }
   ],
   "source": [
    "# Q10. Given the string \"Hello, World!\", extract the substring \"World\".\n",
    "l=\"Hello, World!\"\n",
    "l[0:5]"
   ]
  },
  {
   "cell_type": "code",
   "execution_count": 50,
   "id": "9c073b11-b3ca-4e5d-9913-4c7391d3a107",
   "metadata": {},
   "outputs": [
    {
     "name": "stdout",
     "output_type": "stream",
     "text": [
      "True\n"
     ]
    }
   ],
   "source": [
    "# Q11. Create a variable named \"is_student\" and assign it a boolean value indicating whether you are currently a student or not.\n",
    "is_student = True\n",
    "print(is_student)\n"
   ]
  },
  {
   "cell_type": "code",
   "execution_count": null,
   "id": "9151f80e-54d1-4e71-adfe-5c4d5667275e",
   "metadata": {},
   "outputs": [],
   "source": []
  }
 ],
 "metadata": {
  "kernelspec": {
   "display_name": "Python 3 (ipykernel)",
   "language": "python",
   "name": "python3"
  },
  "language_info": {
   "codemirror_mode": {
    "name": "ipython",
    "version": 3
   },
   "file_extension": ".py",
   "mimetype": "text/x-python",
   "name": "python",
   "nbconvert_exporter": "python",
   "pygments_lexer": "ipython3",
   "version": "3.10.8"
  }
 },
 "nbformat": 4,
 "nbformat_minor": 5
}
